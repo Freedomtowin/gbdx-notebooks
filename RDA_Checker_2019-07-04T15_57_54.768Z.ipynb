{
 "cells": [
  {
   "cell_type": "markdown",
   "metadata": {
    "collapsed": true
   },
   "source": [
    "This is a function to check to see if the catalog id that is passed is in RDA or not.  If the catalog id is in RDA, then the return is the catalog id.  If the catalog id is not in RDA, then a message is returned letting you know it is not in RDA."
   ]
  },
  {
   "cell_type": "code",
   "execution_count": 3,
   "metadata": {},
   "outputs": [],
   "source": [
    "def rdaCheck(catalog_id):\n",
    "    from gbdxtools import CatalogImage, Interface\n",
    "    gbdx = Interface()\n",
    "    everything = \"POLYGON((-180 90,180 90,180 -90,-180 -90,-180 90))\"\n",
    "    if gbdx.catalog.get_data_location(catalog_id) != 'not_delivered' and gbdx.catalog.get_data_location(catalog_id) != None:\n",
    "        return catalog_id\n",
    "    elif len(gbdx.vectors.query(everything, query='item_type:IDAHOImage AND attributes.catalogID:\"%s\"'%catalog_id))>0:\n",
    "        return catalog_id\n",
    "    else:\n",
    "        try:\n",
    "            img = CatalogImage(catalog_id)\n",
    "            return catalog_id\n",
    "        except:\n",
    "            return 'Not in RDA'"
   ]
  },
  {
   "cell_type": "markdown",
   "metadata": {},
   "source": [
    "So lets run through a workflow."
   ]
  },
  {
   "cell_type": "code",
   "execution_count": 4,
   "metadata": {},
   "outputs": [
    {
     "name": "stdout",
     "output_type": "stream",
     "text": [
      "finding Catalog ID's...\n",
      "# of Catalog ID's: 1000\n",
      "Checking if Catalog ID's are in RDA...\n",
      "Inside of RDA count: 616, Outside of RDA count: 384\n"
     ]
    }
   ],
   "source": [
    "from gbdxtools import Interface\n",
    "gbdx = Interface()\n",
    "print(\"finding Catalog ID's...\")\n",
    "catalog_IDs = [i['identifier'] for i in gbdx.catalog.search()]\n",
    "print(\"# of Catalog ID's: %i\"%len(catalog_IDs))\n",
    "print(\"Checking if Catalog ID's are in RDA...\")\n",
    "in_rda = []\n",
    "out_rda = []\n",
    "for r in catalog_IDs:\n",
    "    if rdaCheck(r) == \"Not in RDA\":\n",
    "        out_rda.append(r)\n",
    "    else:\n",
    "        in_rda.append(r)\n",
    "print(\"Inside of RDA count: %i, Outside of RDA count: %i\"%(len(in_rda),len(out_rda)))"
   ]
  },
  {
   "cell_type": "code",
   "execution_count": null,
   "metadata": {},
   "outputs": [],
   "source": []
  }
 ],
 "metadata": {
  "kernelspec": {
   "display_name": "Python 3",
   "language": "python",
   "name": "python3"
  },
  "language_info": {
   "codemirror_mode": {
    "name": "ipython",
    "version": 3
   },
   "file_extension": ".py",
   "mimetype": "text/x-python",
   "name": "python",
   "nbconvert_exporter": "python",
   "pygments_lexer": "ipython3",
   "version": "3.6.6"
  }
 },
 "nbformat": 4,
 "nbformat_minor": 2
}
