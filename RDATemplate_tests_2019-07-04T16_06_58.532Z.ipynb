{
 "cells": [
  {
   "cell_type": "code",
   "execution_count": 4,
   "metadata": {},
   "outputs": [],
   "source": [
    "from shapely.geometry import box, shape\n",
    "from gbdxtools import RDATemplateImage, CatalogImage\n",
    "bounds = (-72.16721534729004, 11.342171023591654, -72.09511598306054, 11.378275276820023)\n",
    "aoi = box(*bounds)\n",
    "catid = '1050010013BD6000'"
   ]
  },
  {
   "cell_type": "code",
   "execution_count": 2,
   "metadata": {},
   "outputs": [
    {
     "name": "stdout",
     "output_type": "stream",
     "text": [
      "-8026.064500000328\n",
      "-4099.422399999807\n"
     ]
    }
   ],
   "source": [
    "# quick sanity check the bounds, should be 8k x 4k km\n",
    "# http://bboxfinder.com/#11.342171,-72.167215,11.378275,-72.095116\n",
    "# -8033617.6258,1270932.7986,-8025591.6018,1275032.1922 in pseudo-mercator\n",
    "\n",
    "print(-8033617.6644 - -8025591.5999)\n",
    "print(1270932.8012 - 1275032.2236)"
   ]
  },
  {
   "cell_type": "code",
   "execution_count": 20,
   "metadata": {},
   "outputs": [
    {
     "name": "stdout",
     "output_type": "stream",
     "text": [
      "282.1050567626953  mb\n",
      "(4, 7027, 14032)\n"
     ]
    }
   ],
   "source": [
    "# check with CatalogImage\n",
    "\n",
    "image = CatalogImage(catid, dra=True, pansharpen=True)\n",
    "clipped = image.aoi(bbox=bounds)\n",
    "print(clipped.nbytes/1024/1024/4*3, ' mb')\n",
    "print(clipped.shape)"
   ]
  },
  {
   "cell_type": "code",
   "execution_count": 19,
   "metadata": {},
   "outputs": [
    {
     "name": "stdout",
     "output_type": "stream",
     "text": [
      "1128.299729347229  mb\n",
      "(3, 14053, 28063)\n"
     ]
    }
   ],
   "source": [
    "# pansharp with HD\n",
    "template_id = '72dcf2c9b309ea3ca64334239d12e1c115e3f3b0e3530d36659bf6976087f7be'\n",
    "template = RDATemplateImage(template_id, node_id='SmartBandSelect_rxa1gt', catId=catid)\n",
    "clipped_template = template.aoi(bbox=bounds)\n",
    "print(clipped_template.nbytes/1024/1024, ' mb')\n",
    "print(clipped_template.shape)"
   ]
  },
  {
   "cell_type": "code",
   "execution_count": 18,
   "metadata": {},
   "outputs": [
    {
     "name": "stdout",
     "output_type": "stream",
     "text": [
      "282.1050567626953  mb\n",
      "(3, 7027, 14032)\n"
     ]
    }
   ],
   "source": [
    "# pansharp, no HD\n",
    "template_id = '9ae7b25712663ed22dd989299a3a63e9ecc1742b233cd140553ee446c3f684a3'\n",
    "template = RDATemplateImage(template_id, node_id='SmartBandSelect_rxa1gt', catId=catid)\n",
    "clipped_template = template.aoi(bbox=bounds)\n",
    "print(clipped_template.nbytes/1024/1024, ' mb')\n",
    "print(clipped_template.shape)"
   ]
  }
 ],
 "metadata": {
  "kernelspec": {
   "display_name": "Python 3",
   "language": "python",
   "name": "python3"
  },
  "language_info": {
   "codemirror_mode": {
    "name": "ipython",
    "version": 3
   },
   "file_extension": ".py",
   "mimetype": "text/x-python",
   "name": "python",
   "nbconvert_exporter": "python",
   "pygments_lexer": "ipython3",
   "version": "3.6.6"
  }
 },
 "nbformat": 4,
 "nbformat_minor": 2
}
