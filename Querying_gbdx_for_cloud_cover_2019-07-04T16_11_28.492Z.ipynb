{
 "cells": [
  {
   "cell_type": "markdown",
   "metadata": {},
   "source": [
    "## Query for catalog id from gbdx based on polygon, cloud cover, and date "
   ]
  },
  {
   "cell_type": "code",
   "execution_count": 23,
   "metadata": {},
   "outputs": [
    {
     "name": "stdout",
     "output_type": "stream",
     "text": [
      "Catid: 10300100914DD200,\n",
      " Date: 2019-04-18T18:40:38.000Z\n",
      " Cloud Cover: 0\n",
      "\n"
     ]
    }
   ],
   "source": [
    "\n",
    "from gbdxtools.task import env\n",
    "from gbdxtools import CatalogImage\n",
    "from gbdxtools import Interface\n",
    "\n",
    "gbdx = Interface()\n",
    "wkt_string = \"POLYGON((-113.88427734375 40.36642741921034,-112.28076171875 40.36642741921034,-110.28076171875 37.565262680889965,-113.88427734375 37.565262680889965,-113.88427734375 40.36642741921034))\"\n",
    "\n",
    "filters = [\"cloudCover == 0 \"]\n",
    "\n",
    "results = gbdx.catalog.search(searchAreaWkt=wkt_string,\n",
    "                          startDate=\"2019-01-01T00:00:00.000Z\",\n",
    "                          endDate=\"2019-05-01T00:00:00.000Z\",\n",
    "                          filters=filters)\n",
    "recent_id = ''\n",
    "recent_cloud = ''\n",
    "recent_date = ''\n",
    "dates=[]\n",
    "for result in results:\n",
    "    date= result['properties']['timestamp']\n",
    "    dates.append(date)\n",
    "\n",
    "recent_date = max(dates,key=lambda x:(x[:4],x[6:7],x[9:10]))\n",
    "\n",
    "\n",
    "recent_id = ''\n",
    "recent_cloud = ''\n",
    "for result in results:\n",
    "    \n",
    "    catid = result['identifier']\n",
    "    \n",
    "    date = result['properties']['timestamp']\n",
    "    \n",
    "    cloudCover = result['properties']['cloudCover']\n",
    "    \n",
    "    if date == recent_date:\n",
    "        recent_id = catid\n",
    "        recent_cloud = cloudCover\n",
    "\n",
    "print('Catid: ' + recent_id + ',\\n Date: ' + recent_date +'\\n Cloud Cover: ' + str(recent_cloud) + '\\n' )\n",
    "\n"
   ]
  },
  {
   "cell_type": "code",
   "execution_count": null,
   "metadata": {},
   "outputs": [],
   "source": []
  }
 ],
 "metadata": {
  "kernelspec": {
   "display_name": "Python 3",
   "language": "python",
   "name": "python3"
  },
  "language_info": {
   "codemirror_mode": {
    "name": "ipython",
    "version": 3
   },
   "file_extension": ".py",
   "mimetype": "text/x-python",
   "name": "python",
   "nbconvert_exporter": "python",
   "pygments_lexer": "ipython3",
   "version": "3.6.6"
  }
 },
 "nbformat": 4,
 "nbformat_minor": 2
}
